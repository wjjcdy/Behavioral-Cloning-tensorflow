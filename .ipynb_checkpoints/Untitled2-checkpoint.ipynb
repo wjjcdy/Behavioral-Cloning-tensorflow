{
 "cells": [
  {
   "cell_type": "markdown",
   "metadata": {},
   "source": [
    "# **Behavioral Cloning** \n",
    "---"
   ]
  },
  {
   "cell_type": "markdown",
   "metadata": {},
   "source": [
    "**Behavioral Cloning Project**\n",
    "\n",
    "The goals / steps of this project are the following:\n",
    "* Use the simulator to collect data of good driving behavior\n",
    "* Build, a convolution neural network in Keras that predicts steering angles from images\n",
    "* Train and validate the model with a training and validation set\n",
    "* Test that the model successfully drives around track one without leaving the road\n",
    "* Summarize the results with a written report"
   ]
  },
  {
   "cell_type": "markdown",
   "metadata": {},
   "source": [
    "---\n",
    "### Files Submitted & Code Quality\n",
    "\n",
    "#### 1. Submission includes all required files and can be used to run the simulator in autonomous mode\n",
    "\n",
    "My project includes the following files:\n",
    "* model.py containing the script to create and train the model\n",
    "* model.html containing the training process and the result of the model \n",
    "* drive.py for driving the car in autonomous mode\n",
    "* model.h5 containing a trained convolution neural network \n",
    "* writeup_report.md summarizing the results\n",
    "* video.mp4  is a video recording of my vehicle driving autonomously one lap around the track\n",
    "\n",
    "#### 2. Submission includes functional code\n",
    "Using the Udacity provided simulator and my drive.py file, the car can be driven autonomously around the track by executing \n",
    "```sh\n",
    "python drive.py model.h5\n",
    "```\n",
    "\n",
    "#### 3. Submission code is usable and readable\n",
    "\n",
    "The model.py file contains the code for training and saving the convolution neural network. The file shows the pipeline I used for training and validating the model, and it contains comments to explain how the code works.\n",
    "\n",
    "#### 4. Submission video is well\n",
    "I recoded my vehicle driving autonomously around the track. And I changed the speed of the vehicle.The speed is 20 m/s and the tracking result is well."
   ]
  },
  {
   "cell_type": "markdown",
   "metadata": {},
   "source": [
    "### Model Architecture and Training Strategy\n",
    "\n",
    "#### 1. An appropriate model architecture has been employed\n",
    "My final model consisted of the following layers:\n",
    "\n",
    "| Layer         \t\t|     Description\t        \t\t\t\t\t| \n",
    "|:---------------------:|:---------------------------------------------:| \n",
    "| Input         \t\t| 160x320x3 RGB image   \t\t\t\t\t\t| \n",
    "| Lambda            \t| x/255.0 - 0.5 normalized and mean_centered \t|\n",
    "| Cropping2D\t\t    | cropping=((70,25),(0,0))\t\t\t\t\t\t|\n",
    "| Convolution\t      \t| 5x5 stride,2x2 subsample                  \t|\n",
    "| RELU\t\t\t\t\t|\t\t\t\t\t\t\t\t\t\t\t\t|\n",
    "| Convolution   \t    | 5x5 stride,2x2 subsample                      |\n",
    "| RELU\t\t\t\t\t|\t\t\t\t\t\t\t\t\t\t\t\t|\n",
    "| Convolution       \t| 5x5 stride,2x2 subsample                  \t|\n",
    "| RELU\t\t\t\t\t|\t\t\t\t\t\t\t\t\t\t\t\t|\n",
    "| Dropout   \t      \t| 0.5                           \t\t\t\t|\n",
    "| Convolution    \t    | 3x3 stride                                    |\n",
    "| RELU\t\t\t\t\t|\t\t\t\t\t\t\t\t\t\t\t\t|\n",
    "| Dropout   \t      \t| 0.5                           \t\t\t\t|\n",
    "| Convolution    \t    | 3x3 stride                                    |\n",
    "| RELU\t\t\t\t\t|\t\t\t\t\t\t\t\t\t\t\t\t|\n",
    "| Fully connected\t\t| outputs 100  \t\t\t\t\t\t\t\t\t|\n",
    "| Dropout\t\t\t\t| 0.5 \t\t\t\t\t\t\t\t\t\t\t|\n",
    "| Fully connected\t\t| outputs 50  \t\t\t\t\t\t\t\t\t|\n",
    "| Dropout\t\t\t\t| 0.5 \t\t\t\t\t\t\t\t\t\t\t|\n",
    "| Fully connected\t\t| outputs 10  \t\t\t\t\t\t\t\t\t|\n",
    "| Fully connected\t\t| outputs 1  \t\t\t\t\t\t\t\t\t|\n",
    "\n",
    "\n",
    "The data is normalized and mean centered in the model using a Keras lambda layer (code line 54). \n",
    "\n",
    "Each image data is cropped in the model using a Keras Cropping2D layer (code line 56).  \n",
    "\n",
    "My model consists of 3 convolution neural network with 5x5 filter sizes and 2 convolution neural network with 3x3 filter sizes. And the model includes RELU layers to introduce nonlinearity (code line 58~64).\n",
    "\n",
    "The model includes 4 fully connected layers. And depth of the last layer is 1.(code line 67-72) \n",
    "#### 2. Attempts to reduce overfitting in the model\n",
    "\n",
    "The model contains dropout layers in order to reduce overfitting (model.py lines 21). \n",
    "\n",
    "The model was trained and validated on different data sets to ensure that the model was not overfitting (code line 10-16). The model was tested by running it through the simulator and ensuring that the vehicle could stay on the track.\n",
    "\n",
    "#### 3. Model parameter tuning\n",
    "\n",
    "The model used an adam optimizer, so the learning rate was not tuned manually (model.py line 25).\n",
    "\n",
    "#### 4. Appropriate training data\n",
    "\n",
    "Training data was chosen to keep the vehicle driving on the road. I used a combination of center lane driving, recovering from the left and right sides of the road ... \n",
    "\n",
    "For details about how I created the training data, see the next section. "
   ]
  }
 ],
 "metadata": {
  "kernelspec": {
   "display_name": "Python 3",
   "language": "python",
   "name": "python3"
  },
  "language_info": {
   "codemirror_mode": {
    "name": "ipython",
    "version": 3
   },
   "file_extension": ".py",
   "mimetype": "text/x-python",
   "name": "python",
   "nbconvert_exporter": "python",
   "pygments_lexer": "ipython3",
   "version": "3.5.2"
  }
 },
 "nbformat": 4,
 "nbformat_minor": 2
}
